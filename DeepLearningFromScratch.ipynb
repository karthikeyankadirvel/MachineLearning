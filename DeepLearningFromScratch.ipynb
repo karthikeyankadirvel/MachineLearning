{
 "cells": [
  {
   "cell_type": "markdown",
   "metadata": {},
   "source": [
    "# Import packages"
   ]
  },
  {
   "cell_type": "code",
   "execution_count": 1,
   "metadata": {},
   "outputs": [],
   "source": [
    "import numpy as np"
   ]
  },
  {
   "cell_type": "markdown",
   "metadata": {},
   "source": [
    "# Create Sigmoid Function and derivative of sigmoid"
   ]
  },
  {
   "cell_type": "code",
   "execution_count": 58,
   "metadata": {},
   "outputs": [],
   "source": [
    "def sigmoid(x,derivative):\n",
    "    if derivative== False:\n",
    "        return 1/(1+np.exp(-x))\n",
    "    if derivative==True:\n",
    "        return x*(1-x)\n",
    "    "
   ]
  },
  {
   "cell_type": "markdown",
   "metadata": {},
   "source": [
    "# Generating Sample Data"
   ]
  },
  {
   "cell_type": "code",
   "execution_count": 3,
   "metadata": {},
   "outputs": [],
   "source": [
    "x=np.array([[0,1,0],[1,0,0],[1,1,0],[0,1,1]])\n",
    "y=np.array([0,0,1,1])"
   ]
  },
  {
   "cell_type": "markdown",
   "metadata": {},
   "source": [
    "# Generating the weights"
   ]
  },
  {
   "cell_type": "code",
   "execution_count": 4,
   "metadata": {},
   "outputs": [
    {
     "data": {
      "text/plain": [
       "array([[ 0.54264129],\n",
       "       [-0.9584961 ],\n",
       "       [ 0.26729647]])"
      ]
     },
     "execution_count": 4,
     "metadata": {},
     "output_type": "execute_result"
    }
   ],
   "source": [
    "# Initialize the weight between -1 to 1\n",
    "np.random.seed(10)\n",
    "weights=2*np.random.random((3,1))-1\n",
    "weights"
   ]
  },
  {
   "cell_type": "code",
   "execution_count": 6,
   "metadata": {},
   "outputs": [],
   "source": [
    "for i in range(2):\n",
    "    input_layer=x\n",
    "    # Multiply the input with weight\n",
    "    outputs = sigmoid(np.dot(input_layer,weights), derivative=False)\n",
    "    \n",
    "    # Error\n",
    "    error=y-outputs"
   ]
  },
  {
   "cell_type": "markdown",
   "metadata": {},
   "source": [
    "# Neural Network Class"
   ]
  },
  {
   "cell_type": "code",
   "execution_count": 42,
   "metadata": {},
   "outputs": [],
   "source": [
    "def weight_bais_int(layers,units):\n",
    "    w=[]\n",
    "    b=[]\n",
    "    for i in range(layers):\n",
    "     \n",
    "        try:\n",
    "            w.append(np.random.randn(units[i],units[i+1]))\n",
    "            b.append(np.random.randn(1))\n",
    "        except:\n",
    "            break\n",
    "    w.append(np.random.randn(units[len(units)-1]))\n",
    "    b.append(np.random.randn(1))\n",
    "    return w,b\n",
    "            \n",
    "    "
   ]
  },
  {
   "cell_type": "code",
   "execution_count": 43,
   "metadata": {},
   "outputs": [],
   "source": [
    "w,b=weight_bais_int(layers=3,units=[3,4,2,1])"
   ]
  },
  {
   "cell_type": "code",
   "execution_count": 72,
   "metadata": {},
   "outputs": [
    {
     "data": {
      "text/plain": [
       "[array([[-0.31014077, -1.2396806 , -0.59347881, -0.43817284],\n",
       "        [ 0.28143276, -0.20621966,  1.66945183, -1.07688513],\n",
       "        [ 0.3002728 ,  0.50302378, -1.09557915, -1.52114107]]),\n",
       " array([[ 0.69714806, -0.19580128],\n",
       "        [ 0.11989141,  0.76399539],\n",
       "        [-0.33265382,  0.02295053],\n",
       "        [ 0.0554339 ,  0.36275798]]),\n",
       " array([[1.40695393],\n",
       "        [0.22088226]]),\n",
       " array([-0.77140026])]"
      ]
     },
     "execution_count": 72,
     "metadata": {},
     "output_type": "execute_result"
    }
   ],
   "source": [
    "w"
   ]
  },
  {
   "cell_type": "code",
   "execution_count": 212,
   "metadata": {},
   "outputs": [],
   "source": [
    "def forward_values(x,w,b):\n",
    "    z_values=[]\n",
    "    z=x\n",
    "    #z_values.append(z)\n",
    "    for i in range(len(w)):\n",
    "        z=np.dot(z,w[i])\n",
    "        z=sigmoid(z,derivative=False)\n",
    "        z_values.append(z)\n",
    "    return z_values\n",
    "        "
   ]
  },
  {
   "cell_type": "code",
   "execution_count": 213,
   "metadata": {},
   "outputs": [],
   "source": [
    "z_values=forward_values(x,w,b)"
   ]
  },
  {
   "cell_type": "code",
   "execution_count": 76,
   "metadata": {},
   "outputs": [
    {
     "data": {
      "text/plain": [
       "[array([[0.56989745, 0.44862702, 0.84150272, 0.25409593],\n",
       "        [0.42308038, 0.22449159, 0.35583705, 0.39217643],\n",
       "        [0.49282349, 0.19063332, 0.74573116, 0.18019041],\n",
       "        [0.64145976, 0.57366107, 0.63965629, 0.06926556]]),\n",
       " array([[0.54617948, 0.58483424],\n",
       "        [0.55607155, 0.5594925 ],\n",
       "        [0.53204217, 0.53285956],\n",
       "        [0.57615893, 0.58721954]]),\n",
       " array([[0.71046199],\n",
       "        [0.71217049],\n",
       "        [0.70396648],\n",
       "        [0.71916741]]),\n",
       " array([0.36631681, 0.36601093, 0.3674807 , 0.36475939])]"
      ]
     },
     "execution_count": 76,
     "metadata": {},
     "output_type": "execute_result"
    }
   ],
   "source": [
    "z_values"
   ]
  },
  {
   "cell_type": "code",
   "execution_count": 49,
   "metadata": {},
   "outputs": [],
   "source": [
    "def rmse_error(z_values,y):\n",
    "    e=np.mean((y-z_values[len(z_values)-1])*2)\n",
    "    er=np.sqrt(e)\n",
    "    return er"
   ]
  },
  {
   "cell_type": "code",
   "execution_count": 145,
   "metadata": {},
   "outputs": [],
   "source": [
    "def backward_values(x,y,z_values,w):\n",
    "    delta=[]\n",
    "    out_error=z_values[len(z_values)-1]-y\n",
    "    d=out_error*sigmoid(z_values[len(z_values)-1],derivative=True)\n",
    "    delta.append(d)\n",
    "    \n",
    "    for i in range(len(z_values)):\n",
    "        e=d.dot(w[i].T)\n",
    "    \n",
    "    \n",
    "\n",
    "    "
   ]
  },
  {
   "cell_type": "code",
   "execution_count": 153,
   "metadata": {},
   "outputs": [],
   "source": [
    "out_error=z_values[len(z_values)-1]-y"
   ]
  },
  {
   "cell_type": "code",
   "execution_count": 156,
   "metadata": {},
   "outputs": [
    {
     "data": {
      "text/plain": [
       "array([ 0.08503268,  0.08493171, -0.14702192, -0.14719159])"
      ]
     },
     "execution_count": 156,
     "metadata": {},
     "output_type": "execute_result"
    }
   ],
   "source": [
    "sigmoid(z_values[len(z_values)-1],derivative=True)*out_error"
   ]
  },
  {
   "cell_type": "code",
   "execution_count": 205,
   "metadata": {},
   "outputs": [],
   "source": [
    "delta=[]\n",
    "out_error=z_values[len(z_values)-1]-y\n",
    "d=out_error*sigmoid(z_values[len(z_values)-1],derivative=True)\n",
    "delta.append(d)\n",
    "\n"
   ]
  },
  {
   "cell_type": "code",
   "execution_count": 158,
   "metadata": {},
   "outputs": [],
   "source": [
    "l=len(z_values)-1"
   ]
  },
  {
   "cell_type": "code",
   "execution_count": 186,
   "metadata": {},
   "outputs": [
    {
     "data": {
      "text/plain": [
       "array([ 0.08503268,  0.08493171, -0.14702192, -0.14719159])"
      ]
     },
     "execution_count": 186,
     "metadata": {},
     "output_type": "execute_result"
    }
   ],
   "source": [
    "d"
   ]
  },
  {
   "cell_type": "code",
   "execution_count": 208,
   "metadata": {},
   "outputs": [
    {
     "ename": "ValueError",
     "evalue": "operands could not be broadcast together with shapes (3,) (4,4) ",
     "output_type": "error",
     "traceback": [
      "\u001b[1;31m---------------------------------------------------------------------------\u001b[0m",
      "\u001b[1;31mValueError\u001b[0m                                Traceback (most recent call last)",
      "\u001b[1;32m<ipython-input-208-a49f030dca3c>\u001b[0m in \u001b[0;36m<module>\u001b[1;34m\u001b[0m\n\u001b[0;32m      1\u001b[0m \u001b[1;32mfor\u001b[0m \u001b[0mi\u001b[0m \u001b[1;32min\u001b[0m \u001b[0mrange\u001b[0m\u001b[1;33m(\u001b[0m\u001b[0mlen\u001b[0m\u001b[1;33m(\u001b[0m\u001b[0mz_values\u001b[0m\u001b[1;33m)\u001b[0m\u001b[1;33m-\u001b[0m\u001b[1;36m1\u001b[0m\u001b[1;33m)\u001b[0m\u001b[1;33m:\u001b[0m\u001b[1;33m\u001b[0m\u001b[1;33m\u001b[0m\u001b[0m\n\u001b[0;32m      2\u001b[0m     \u001b[0me\u001b[0m\u001b[1;33m=\u001b[0m\u001b[0md\u001b[0m\u001b[1;33m.\u001b[0m\u001b[0mdot\u001b[0m\u001b[1;33m(\u001b[0m\u001b[0mw\u001b[0m\u001b[1;33m[\u001b[0m\u001b[0mi\u001b[0m\u001b[1;33m]\u001b[0m\u001b[1;33m.\u001b[0m\u001b[0mT\u001b[0m\u001b[1;33m)\u001b[0m\u001b[1;33m+\u001b[0m\u001b[0mb\u001b[0m\u001b[1;33m[\u001b[0m\u001b[0mi\u001b[0m\u001b[1;33m]\u001b[0m\u001b[1;33m\u001b[0m\u001b[1;33m\u001b[0m\u001b[0m\n\u001b[1;32m----> 3\u001b[1;33m     \u001b[0md\u001b[0m\u001b[1;33m=\u001b[0m\u001b[0me\u001b[0m\u001b[1;33m*\u001b[0m\u001b[0msigmoid\u001b[0m\u001b[1;33m(\u001b[0m\u001b[0mz_values\u001b[0m\u001b[1;33m[\u001b[0m\u001b[0mi\u001b[0m\u001b[1;33m]\u001b[0m\u001b[1;33m,\u001b[0m\u001b[0mderivative\u001b[0m\u001b[1;33m=\u001b[0m\u001b[1;32mTrue\u001b[0m\u001b[1;33m)\u001b[0m\u001b[1;33m\u001b[0m\u001b[1;33m\u001b[0m\u001b[0m\n\u001b[0m\u001b[0;32m      4\u001b[0m     \u001b[0mdelta\u001b[0m\u001b[1;33m.\u001b[0m\u001b[0mappend\u001b[0m\u001b[1;33m(\u001b[0m\u001b[0md\u001b[0m\u001b[1;33m)\u001b[0m\u001b[1;33m\u001b[0m\u001b[1;33m\u001b[0m\u001b[0m\n",
      "\u001b[1;31mValueError\u001b[0m: operands could not be broadcast together with shapes (3,) (4,4) "
     ]
    }
   ],
   "source": [
    "for i in range(len(z_values)-1):\n",
    "    e=d.dot(w[i].T)+b[i]\n",
    "    d=e*sigmoid(z_values[i],derivative=True)\n",
    "    delta.append(d)"
   ]
  },
  {
   "cell_type": "code",
   "execution_count": 216,
   "metadata": {},
   "outputs": [
    {
     "data": {
      "text/plain": [
       "array([0.25619136, 0.15558072, 0.68933091])"
      ]
     },
     "execution_count": 216,
     "metadata": {},
     "output_type": "execute_result"
    }
   ],
   "source": [
    "e"
   ]
  },
  {
   "cell_type": "code",
   "execution_count": 217,
   "metadata": {},
   "outputs": [
    {
     "data": {
      "text/plain": [
       "array([[0.24511435, 0.24736082, 0.13337589, 0.18953119],\n",
       "       [0.24408337, 0.17409511, 0.22921704, 0.23837408],\n",
       "       [0.2499485 , 0.15429226, 0.1896162 , 0.14772183],\n",
       "       [0.22998914, 0.24457405, 0.23049612, 0.06446784]])"
      ]
     },
     "execution_count": 217,
     "metadata": {},
     "output_type": "execute_result"
    }
   ],
   "source": [
    "sigmoid(z_values[i],derivative=True)"
   ]
  },
  {
   "cell_type": "code",
   "execution_count": 214,
   "metadata": {},
   "outputs": [
    {
     "data": {
      "text/plain": [
       "array([[0.56989745, 0.44862702, 0.84150272, 0.25409593],\n",
       "       [0.42308038, 0.22449159, 0.35583705, 0.39217643],\n",
       "       [0.49282349, 0.19063332, 0.74573116, 0.18019041],\n",
       "       [0.64145976, 0.57366107, 0.63965629, 0.06926556]])"
      ]
     },
     "execution_count": 214,
     "metadata": {},
     "output_type": "execute_result"
    }
   ],
   "source": [
    "z_values[0]"
   ]
  },
  {
   "cell_type": "code",
   "execution_count": 203,
   "metadata": {},
   "outputs": [
    {
     "data": {
      "text/plain": [
       "[array([[-0.31014077, -1.2396806 , -0.59347881, -0.43817284],\n",
       "        [ 0.28143276, -0.20621966,  1.66945183, -1.07688513],\n",
       "        [ 0.3002728 ,  0.50302378, -1.09557915, -1.52114107]]),\n",
       " array([[ 0.69714806, -0.19580128],\n",
       "        [ 0.11989141,  0.76399539],\n",
       "        [-0.33265382,  0.02295053],\n",
       "        [ 0.0554339 ,  0.36275798]]),\n",
       " array([[1.40695393],\n",
       "        [0.22088226]]),\n",
       " array([-0.77140026])]"
      ]
     },
     "execution_count": 203,
     "metadata": {},
     "output_type": "execute_result"
    }
   ],
   "source": [
    "w"
   ]
  },
  {
   "cell_type": "code",
   "execution_count": 204,
   "metadata": {},
   "outputs": [
    {
     "data": {
      "text/plain": [
       "array([[0.8539582 ],\n",
       "       [0.87670801],\n",
       "       [0.87000312],\n",
       "       [0.85624991]])"
      ]
     },
     "execution_count": 204,
     "metadata": {},
     "output_type": "execute_result"
    }
   ],
   "source": [
    "z"
   ]
  },
  {
   "cell_type": "code",
   "execution_count": 170,
   "metadata": {},
   "outputs": [
    {
     "ename": "ValueError",
     "evalue": "operands could not be broadcast together with shapes (3,) (4,4) ",
     "output_type": "error",
     "traceback": [
      "\u001b[1;31m---------------------------------------------------------------------------\u001b[0m",
      "\u001b[1;31mValueError\u001b[0m                                Traceback (most recent call last)",
      "\u001b[1;32m<ipython-input-170-a7e7d28b8826>\u001b[0m in \u001b[0;36m<module>\u001b[1;34m\u001b[0m\n\u001b[0;32m      1\u001b[0m \u001b[0me\u001b[0m\u001b[1;33m=\u001b[0m\u001b[0md\u001b[0m\u001b[1;33m.\u001b[0m\u001b[0mdot\u001b[0m\u001b[1;33m(\u001b[0m\u001b[0mw\u001b[0m\u001b[1;33m[\u001b[0m\u001b[0mi\u001b[0m\u001b[1;33m]\u001b[0m\u001b[1;33m.\u001b[0m\u001b[0mT\u001b[0m\u001b[1;33m)\u001b[0m\u001b[1;33m+\u001b[0m\u001b[0mb\u001b[0m\u001b[1;33m[\u001b[0m\u001b[0mi\u001b[0m\u001b[1;33m]\u001b[0m\u001b[1;33m\u001b[0m\u001b[1;33m\u001b[0m\u001b[0m\n\u001b[1;32m----> 2\u001b[1;33m \u001b[0md\u001b[0m\u001b[1;33m=\u001b[0m\u001b[0me\u001b[0m\u001b[1;33m*\u001b[0m\u001b[0msigmoid\u001b[0m\u001b[1;33m(\u001b[0m\u001b[0mz_values\u001b[0m\u001b[1;33m[\u001b[0m\u001b[0mi\u001b[0m\u001b[1;33m]\u001b[0m\u001b[1;33m,\u001b[0m\u001b[0mderivative\u001b[0m\u001b[1;33m=\u001b[0m\u001b[1;32mTrue\u001b[0m\u001b[1;33m)\u001b[0m\u001b[1;33m\u001b[0m\u001b[1;33m\u001b[0m\u001b[0m\n\u001b[0m\u001b[0;32m      3\u001b[0m \u001b[0mdelta\u001b[0m\u001b[1;33m.\u001b[0m\u001b[0mappend\u001b[0m\u001b[1;33m(\u001b[0m\u001b[0md\u001b[0m\u001b[1;33m)\u001b[0m\u001b[1;33m\u001b[0m\u001b[1;33m\u001b[0m\u001b[0m\n",
      "\u001b[1;31mValueError\u001b[0m: operands could not be broadcast together with shapes (3,) (4,4) "
     ]
    }
   ],
   "source": [
    "\n",
    "e=d.dot(w[i].T)+b[i]\n",
    "d=e*sigmoid(z_values[i],derivative=True)\n",
    "delta.append(d)"
   ]
  },
  {
   "cell_type": "code",
   "execution_count": 171,
   "metadata": {},
   "outputs": [
    {
     "name": "stdout",
     "output_type": "stream",
     "text": [
      "4\n",
      "3\n",
      "2\n",
      "1\n"
     ]
    }
   ],
   "source": [
    "for i in range(len(z_values),0,-1):\n",
    "    print(i)"
   ]
  },
  {
   "cell_type": "code",
   "execution_count": 115,
   "metadata": {},
   "outputs": [
    {
     "data": {
      "text/plain": [
       "array([[0.56989745, 0.44862702, 0.84150272, 0.25409593],\n",
       "       [0.42308038, 0.22449159, 0.35583705, 0.39217643],\n",
       "       [0.49282349, 0.19063332, 0.74573116, 0.18019041],\n",
       "       [0.64145976, 0.57366107, 0.63965629, 0.06926556]])"
      ]
     },
     "execution_count": 115,
     "metadata": {},
     "output_type": "execute_result"
    }
   ],
   "source": [
    "z_values[0]"
   ]
  },
  {
   "cell_type": "code",
   "execution_count": 102,
   "metadata": {},
   "outputs": [
    {
     "data": {
      "text/plain": [
       "array([[1.40695393],\n",
       "       [0.22088226]])"
      ]
     },
     "execution_count": 102,
     "metadata": {},
     "output_type": "execute_result"
    }
   ],
   "source": [
    "w[2]"
   ]
  },
  {
   "cell_type": "code",
   "execution_count": null,
   "metadata": {},
   "outputs": [],
   "source": []
  },
  {
   "cell_type": "code",
   "execution_count": 19,
   "metadata": {},
   "outputs": [
    {
     "data": {
      "text/plain": [
       "[array([[ 0.41765968,  0.89395769,  0.04735517, -0.60842552],\n",
       "        [-0.26854813, -0.66630197, -0.34401183,  0.80705192],\n",
       "        [ 2.14180538, -0.49561818,  0.52563742, -0.38964647]]),\n",
       " array([[-0.8169742 ,  1.01961544],\n",
       "        [-0.34143633,  0.7512814 ],\n",
       "        [-0.36225179, -1.12913125],\n",
       "        [-0.34971048, -1.05272652]]),\n",
       " array([[-0.17180538],\n",
       "        [ 0.57765806]]),\n",
       " array([0.07878845])]"
      ]
     },
     "execution_count": 19,
     "metadata": {},
     "output_type": "execute_result"
    }
   ],
   "source": [
    "w"
   ]
  },
  {
   "cell_type": "code",
   "execution_count": null,
   "metadata": {},
   "outputs": [],
   "source": []
  }
 ],
 "metadata": {
  "kernelspec": {
   "display_name": "Python 3",
   "language": "python",
   "name": "python3"
  },
  "language_info": {
   "codemirror_mode": {
    "name": "ipython",
    "version": 3
   },
   "file_extension": ".py",
   "mimetype": "text/x-python",
   "name": "python",
   "nbconvert_exporter": "python",
   "pygments_lexer": "ipython3",
   "version": "3.7.4"
  },
  "toc": {
   "base_numbering": 1,
   "nav_menu": {},
   "number_sections": true,
   "sideBar": true,
   "skip_h1_title": false,
   "title_cell": "Table of Contents",
   "title_sidebar": "Contents",
   "toc_cell": false,
   "toc_position": {},
   "toc_section_display": true,
   "toc_window_display": true
  }
 },
 "nbformat": 4,
 "nbformat_minor": 2
}
